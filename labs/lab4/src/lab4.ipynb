{
 "cells": [
  {
   "cell_type": "code",
   "execution_count": 1,
   "metadata": {},
   "outputs": [],
   "source": [
    "import random\n",
    "import math\n",
    "\n",
    "def MonteCarlo_Pi(point_num):\n",
    "    \"\"\" 基于Monte Carlo Method计算圆周率 \n",
    "    Args:\n",
    "        point_num (int): 随机生成点的数目\n",
    "    Returns: \n",
    "        float: 计算出的圆周率\n",
    "    \"\"\"\n",
    "    if point_num <= 0:\n",
    "        raise ValueError(\"参数（生成点的数目）必须为正数！\")\n",
    "    \n",
    "    in_circle_num = 0  # 落在单位圆中的点的数量\n",
    "    for _ in range(point_num):\n",
    "        x = random.uniform(0, 1)\n",
    "        y = random.uniform(0, 1)\n",
    "        if math.sqrt(x**2 + y**2) <= 1:\n",
    "            in_circle_num += 1  # 点(x, y)在单位圆内\n",
    "            \n",
    "    return 4 * (in_circle_num / point_num)"
   ]
  },
  {
   "cell_type": "code",
   "execution_count": 3,
   "metadata": {},
   "outputs": [
    {
     "name": "stdout",
     "output_type": "stream",
     "text": [
      "3.0\n",
      "3.08\n",
      "3.2\n",
      "3.28\n",
      "3.12\n"
     ]
    }
   ],
   "source": [
    "for _ in range(5):\n",
    "    print(MonteCarlo_Pi(100))"
   ]
  },
  {
   "cell_type": "code",
   "execution_count": 4,
   "metadata": {},
   "outputs": [
    {
     "name": "stdout",
     "output_type": "stream",
     "text": [
      "3.112\n",
      "3.132\n",
      "3.168\n",
      "3.172\n",
      "3.22\n"
     ]
    }
   ],
   "source": [
    "for _ in range(5):\n",
    "    print(MonteCarlo_Pi(1000))"
   ]
  },
  {
   "cell_type": "code",
   "execution_count": 5,
   "metadata": {},
   "outputs": [
    {
     "name": "stdout",
     "output_type": "stream",
     "text": [
      "3.1568\n",
      "3.134\n",
      "3.164\n",
      "3.16\n",
      "3.1796\n"
     ]
    }
   ],
   "source": [
    "for _ in range(5):\n",
    "    print(MonteCarlo_Pi(10000))"
   ]
  },
  {
   "cell_type": "code",
   "execution_count": 6,
   "metadata": {},
   "outputs": [
    {
     "name": "stdout",
     "output_type": "stream",
     "text": [
      "3.14016\n",
      "3.1444\n",
      "3.13372\n",
      "3.13648\n",
      "3.14232\n"
     ]
    }
   ],
   "source": [
    "for _ in range(5):\n",
    "    print(MonteCarlo_Pi(100000))"
   ]
  },
  {
   "cell_type": "code",
   "execution_count": 7,
   "metadata": {},
   "outputs": [
    {
     "name": "stdout",
     "output_type": "stream",
     "text": [
      "3.140932\n",
      "3.14386\n",
      "3.142156\n",
      "3.1423\n",
      "3.14506\n"
     ]
    }
   ],
   "source": [
    "for _ in range(5):\n",
    "    print(MonteCarlo_Pi(1000000))"
   ]
  },
  {
   "cell_type": "code",
   "execution_count": 9,
   "metadata": {},
   "outputs": [
    {
     "name": "stdout",
     "output_type": "stream",
     "text": [
      "3.1423388\n",
      "3.1412328\n",
      "3.1418724\n",
      "3.1417852\n",
      "3.1406908\n"
     ]
    }
   ],
   "source": [
    "for _ in range(5):\n",
    "    print(MonteCarlo_Pi(10000000))"
   ]
  }
 ],
 "metadata": {
  "kernelspec": {
   "display_name": "gpuPytorch",
   "language": "python",
   "name": "python3"
  },
  "language_info": {
   "codemirror_mode": {
    "name": "ipython",
    "version": 3
   },
   "file_extension": ".py",
   "mimetype": "text/x-python",
   "name": "python",
   "nbconvert_exporter": "python",
   "pygments_lexer": "ipython3",
   "version": "3.9.19"
  }
 },
 "nbformat": 4,
 "nbformat_minor": 2
}
